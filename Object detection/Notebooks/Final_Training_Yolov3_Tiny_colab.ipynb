{
  "nbformat": 4,
  "nbformat_minor": 0,
  "metadata": {
    "colab": {
      "name": "Final_Training_Yolov3-Tiny.ipynb",
      "provenance": [],
      "collapsed_sections": []
    },
    "kernelspec": {
      "name": "python3",
      "display_name": "Python 3"
    },
    "accelerator": "GPU"
  },
  "cells": [
    {
      "cell_type": "markdown",
      "metadata": {
        "id": "XbDUi9TmGBbA",
        "colab_type": "text"
      },
      "source": [
        "## Training Yolo for custom Object Detection"
      ]
    },
    {
      "cell_type": "code",
      "metadata": {
        "id": "kRxNmb4QGH1Q",
        "colab_type": "code",
        "colab": {
          "base_uri": "https://localhost:8080/",
          "height": 364
        },
        "outputId": "aecda3d6-a888-4f5c-f1be-622828bf36c3"
      },
      "source": [
        "# Checking Gpu\n",
        "!nvidia-smi"
      ],
      "execution_count": 1,
      "outputs": [
        {
          "output_type": "stream",
          "text": [
            "Thu Jul 30 08:12:18 2020       \n",
            "+-----------------------------------------------------------------------------+\n",
            "| NVIDIA-SMI 450.51.05    Driver Version: 418.67       CUDA Version: 10.1     |\n",
            "|-------------------------------+----------------------+----------------------+\n",
            "| GPU  Name        Persistence-M| Bus-Id        Disp.A | Volatile Uncorr. ECC |\n",
            "| Fan  Temp  Perf  Pwr:Usage/Cap|         Memory-Usage | GPU-Util  Compute M. |\n",
            "|                               |                      |               MIG M. |\n",
            "|===============================+======================+======================|\n",
            "|   0  Tesla T4            Off  | 00000000:00:04.0 Off |                    0 |\n",
            "| N/A   51C    P8    10W /  70W |      0MiB / 15079MiB |      0%      Default |\n",
            "|                               |                      |                 ERR! |\n",
            "+-------------------------------+----------------------+----------------------+\n",
            "                                                                               \n",
            "+-----------------------------------------------------------------------------+\n",
            "| Processes:                                                                  |\n",
            "|  GPU   GI   CI        PID   Type   Process name                  GPU Memory |\n",
            "|        ID   ID                                                   Usage      |\n",
            "|=============================================================================|\n",
            "|  No running processes found                                                 |\n",
            "+-----------------------------------------------------------------------------+\n"
          ],
          "name": "stdout"
        }
      ]
    },
    {
      "cell_type": "code",
      "metadata": {
        "id": "DebIPF9LGQbK",
        "colab_type": "code",
        "colab": {
          "base_uri": "https://localhost:8080/",
          "height": 124
        },
        "outputId": "35353a02-128f-4e95-c040-7269743f8058"
      },
      "source": [
        "# connecting Google drive\n",
        "from google.colab import drive\n",
        "drive.mount('/content/drive')"
      ],
      "execution_count": 2,
      "outputs": [
        {
          "output_type": "stream",
          "text": [
            "Go to this URL in a browser: https://accounts.google.com/o/oauth2/auth?client_id=947318989803-6bn6qk8qdgf4n4g3pfee6491hc0brc4i.apps.googleusercontent.com&redirect_uri=urn%3aietf%3awg%3aoauth%3a2.0%3aoob&response_type=code&scope=email%20https%3a%2f%2fwww.googleapis.com%2fauth%2fdocs.test%20https%3a%2f%2fwww.googleapis.com%2fauth%2fdrive%20https%3a%2f%2fwww.googleapis.com%2fauth%2fdrive.photos.readonly%20https%3a%2f%2fwww.googleapis.com%2fauth%2fpeopleapi.readonly\n",
            "\n",
            "Enter your authorization code:\n",
            "··········\n",
            "Mounted at /content/drive\n"
          ],
          "name": "stdout"
        }
      ]
    },
    {
      "cell_type": "code",
      "metadata": {
        "id": "Lfx6JS-mGl9f",
        "colab_type": "code",
        "colab": {
          "base_uri": "https://localhost:8080/",
          "height": 208
        },
        "outputId": "8679c1fe-6db9-4988-927a-c0072b301304"
      },
      "source": [
        "# Cloning the DARKNET!\n",
        "!git clone https://github.com/AlexeyAB/darknet\n",
        "# Also my repo where I have helper scripts!\n",
        "!git clone https://github.com/luckyCasualGuy/Scripts.git"
      ],
      "execution_count": 3,
      "outputs": [
        {
          "output_type": "stream",
          "text": [
            "Cloning into 'darknet'...\n",
            "remote: Enumerating objects: 14086, done.\u001b[K\n",
            "remote: Total 14086 (delta 0), reused 0 (delta 0), pack-reused 14086\u001b[K\n",
            "Receiving objects: 100% (14086/14086), 12.72 MiB | 11.30 MiB/s, done.\n",
            "Resolving deltas: 100% (9587/9587), done.\n",
            "Cloning into 'Scripts'...\n",
            "remote: Enumerating objects: 35, done.\u001b[K\n",
            "remote: Counting objects: 100% (35/35), done.\u001b[K\n",
            "remote: Compressing objects: 100% (24/24), done.\u001b[K\n",
            "remote: Total 35 (delta 9), reused 27 (delta 7), pack-reused 0\u001b[K\n",
            "Unpacking objects: 100% (35/35), done.\n"
          ],
          "name": "stdout"
        }
      ]
    },
    {
      "cell_type": "markdown",
      "metadata": {
        "id": "cMTYHaf2HLiQ",
        "colab_type": "text"
      },
      "source": [
        "**Configuring DARKNET**:  \n",
        "setting:  \n",
        "`OPENCV ` -> True  \n",
        "`GPU` -> True  \n",
        "`CUDNN` -> True  "
      ]
    },
    {
      "cell_type": "code",
      "metadata": {
        "id": "emLvgTZDG0eh",
        "colab_type": "code",
        "colab": {}
      },
      "source": [
        "# configuring & making DARKNET!\n",
        "%cd darknet\n",
        "!sed -i 's/OPENCV=0/OPENCV=1/' Makefile\n",
        "!sed -i 's/GPU=0/GPU=1/' Makefile\n",
        "!sed -i 's/CUDNN=0/CUDNN=1/' Makefile\n",
        "!make"
      ],
      "execution_count": null,
      "outputs": []
    },
    {
      "cell_type": "markdown",
      "metadata": {
        "id": "ho3j7u9BINwR",
        "colab_type": "text"
      },
      "source": [
        "##We will stay in DARKNET dir as final training will be done here!"
      ]
    },
    {
      "cell_type": "code",
      "metadata": {
        "id": "SRSAE-NLHjut",
        "colab_type": "code",
        "colab": {}
      },
      "source": [
        "# Making some required path shortcuts\n",
        "!ln -s 'cfg/yolov3-tiny.cfg' original_model\n",
        "!cp original_model 'cfg/yolov3-tiny-model.cfg'\n",
        "!ln -s 'cfg/yolov3-tiny-model.cfg' original_model_copy\n",
        "# some shortcuts to my drive\n",
        "!ln -s '../drive/My Drive' my_drive\n",
        "!ln -s 'my_drive/OD/dataset' my_data\n",
        "!ln -s 'my_drive/OD/weights' weights\n",
        "!ln -s 'my_drive/OD/output' output\n",
        "# path to my script repo\n",
        "!ln -s '../Scripts' my_repo\n",
        "!ln -s 'my_repo/Object detection/' my_scripts\n",
        "# path to root dir\n",
        "!ln -s '../' root"
      ],
      "execution_count": 5,
      "outputs": []
    },
    {
      "cell_type": "markdown",
      "metadata": {
        "id": "zZo45O_Wmqno",
        "colab_type": "text"
      },
      "source": [
        "These are the appropriate changes made!"
      ]
    },
    {
      "cell_type": "code",
      "metadata": {
        "id": "OXEQGFQamobq",
        "colab_type": "code",
        "colab": {}
      },
      "source": [
        "!sed -i 's/batch=1/batch=64/' cfg/yolov3-tiny-model.cfg\n",
        "!sed -i 's/subdivisions=1/subdivisions=16/' cfg/yolov3-tiny-model.cfg\n",
        "!sed -i 's/max_batches = 500200/max_batches = 4000/' cfg/yolov3-tiny-model.cfg\n",
        "!sed -i '135 s@classes=80@classes=2@' cfg/yolov3-tiny-model.cfg\n",
        "!sed -i '177 s@classes=80@classes=2@' cfg/yolov3-tiny-model.cfg\n",
        "!sed -i '127 s@filters=255@filters=21@' cfg/yolov3-tiny-model.cfg\n",
        "!sed -i '171 s@filters=255@filters=21@' cfg/yolov3-tiny-model.cfg"
      ],
      "execution_count": 6,
      "outputs": []
    },
    {
      "cell_type": "code",
      "metadata": {
        "id": "OedSdYDLmx62",
        "colab_type": "code",
        "colab": {}
      },
      "source": [
        "# unzip images in yolo form in the root folder.\n",
        "!unzip my_data/ok_wait.zip -d root"
      ],
      "execution_count": null,
      "outputs": []
    },
    {
      "cell_type": "code",
      "metadata": {
        "id": "ecj-QgqCnvCv",
        "colab_type": "code",
        "colab": {
          "base_uri": "https://localhost:8080/",
          "height": 35
        },
        "outputId": "8873348a-04b0-4d22-9c60-a491d9e3938f"
      },
      "source": [
        "# Running script to get obj.data\n",
        "!python my_scripts/make_obj_3_6.py -d root/ok_wait -s root/obj -p 90 -o output"
      ],
      "execution_count": 9,
      "outputs": [
        {
          "output_type": "stream",
          "text": [
            "Done! :)\n"
          ],
          "name": "stdout"
        }
      ]
    },
    {
      "cell_type": "code",
      "metadata": {
        "id": "U3dFv8_Cv3LD",
        "colab_type": "code",
        "colab": {}
      },
      "source": [
        "# Start the training\n",
        "!./darknet detector train root/obj/obj.data original_model_copy weights/yolov3-tiny.conv.11 -dont_show"
      ],
      "execution_count": null,
      "outputs": []
    }
  ]
}